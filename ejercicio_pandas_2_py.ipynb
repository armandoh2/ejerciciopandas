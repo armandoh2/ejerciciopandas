{
  "nbformat": 4,
  "nbformat_minor": 0,
  "metadata": {
    "colab": {
      "name": "ejercicio pandas 2.py",
      "provenance": [],
      "authorship_tag": "ABX9TyPK4Tl7N9x2Ag9mEhBZRGfB",
      "include_colab_link": true
    },
    "kernelspec": {
      "name": "python3",
      "display_name": "Python 3"
    },
    "language_info": {
      "name": "python"
    }
  },
  "cells": [
    {
      "cell_type": "markdown",
      "metadata": {
        "id": "view-in-github",
        "colab_type": "text"
      },
      "source": [
        "<a href=\"https://colab.research.google.com/github/armandoh2/ejerciciopandas/blob/main/ejercicio_pandas_2_py.ipynb\" target=\"_parent\"><img src=\"https://colab.research.google.com/assets/colab-badge.svg\" alt=\"Open In Colab\"/></a>"
      ]
    },
    {
      "cell_type": "code",
      "metadata": {
        "colab": {
          "base_uri": "https://localhost:8080/"
        },
        "id": "5g8B8oI5pmy6",
        "outputId": "23da3643-c94c-4653-fdc1-74cb81b1e7b6"
      },
      "source": [
        "print(\"EJERCICIO 2 \")\n",
        "print(\"\")\n",
        "print(\"Escribir una función que reciba un diccionario con las notas de los alumnos \")\n",
        "print(\"en curso en un examen y devuelva una serie con la nota mínima, la máxima,\")\n",
        "print(\"media y la desviación típica.\")\n",
        "import pandas as pd\n",
        "\n",
        "def estadistica_notas(notas):\n",
        "    notas = pd.Series(notas)\n",
        "    estadisticos = pd.Series([notas.min(), notas.max(), notas.mean(), notas.std()], index=['Min', 'Max', 'Media', 'Desviación típica'])\n",
        "    return estadisticos\n",
        "\n",
        "\n",
        "print('La nota de angel es: 10')\n",
        "print('La nota de armando es: 6')\n",
        "print('La nota de santiago es: 9')\n",
        "print('La nota de arturo es: 8.5')\n",
        "print('La nota de sofia es: 3')\n",
        "\n",
        "\n",
        "notas = {'angel':10, 'armando':6, 'santiago':9, 'arturo': 8.5, 'sofia': 3}\n",
        "print(estadistica_notas(notas))\n",
        "\n"
      ],
      "execution_count": 7,
      "outputs": [
        {
          "output_type": "stream",
          "text": [
            "EJERCICIO 2 \n",
            "\n",
            "Escribir una función que reciba un diccionario con las notas de los alumnos \n",
            "en curso en un examen y devuelva una serie con la nota mínima, la máxima,\n",
            "media y la desviación típica.\n",
            "La nota de angel es: 10\n",
            "La nota de armando es: 6\n",
            "La nota de santiago es: 9\n",
            "La nota de arturo es: 8.5\n",
            "La nota de sofia es: 3\n",
            "Min                   3.000000\n",
            "Max                  10.000000\n",
            "Media                 7.300000\n",
            "Desviación típica     2.819574\n",
            "dtype: float64\n"
          ],
          "name": "stdout"
        }
      ]
    }
  ]
}