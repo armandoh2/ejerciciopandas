{
  "nbformat": 4,
  "nbformat_minor": 0,
  "metadata": {
    "colab": {
      "name": "ejercicio pandas 3",
      "provenance": [],
      "authorship_tag": "ABX9TyPZaeelk/j7dXuFgK3O6t9d",
      "include_colab_link": true
    },
    "kernelspec": {
      "name": "python3",
      "display_name": "Python 3"
    },
    "language_info": {
      "name": "python"
    }
  },
  "cells": [
    {
      "cell_type": "markdown",
      "metadata": {
        "id": "view-in-github",
        "colab_type": "text"
      },
      "source": [
        "<a href=\"https://colab.research.google.com/github/armandoh2/ejerciciopandas/blob/main/ejercicio_pandas_3.ipynb\" target=\"_parent\"><img src=\"https://colab.research.google.com/assets/colab-badge.svg\" alt=\"Open In Colab\"/></a>"
      ]
    },
    {
      "cell_type": "code",
      "metadata": {
        "colab": {
          "base_uri": "https://localhost:8080/"
        },
        "id": "56mZzJeWsghU",
        "outputId": "2da1386b-8037-4ddf-e51a-49f5d7a0f63c"
      },
      "source": [
        "import pandas as pd\n",
        "print(\"EJERCICIO 3 \")\n",
        "print(\"Escribir una función que reciba undiccionario con las notas de los alumnos en curso en un examen\")\n",
        "print(\"y devuelva una serie con las notas de los alumnos aprobados ordenadas de mayor a menor.\")\n",
        "\n",
        "\n",
        "def aprobados(notas):\n",
        "    notas = pd.Series(notas)\n",
        "    return notas[notas >= 5].sort_values(ascending=False)\n",
        "\n",
        "notas = {'angel':10, 'armando':6., 'sofia':3, 'arturo': 8.5, 'santiago': 5}\n",
        "print(aprobados(notas))\n",
        "\n"
      ],
      "execution_count": 1,
      "outputs": [
        {
          "output_type": "stream",
          "text": [
            "EJERCICIO 3 \n",
            "Escribir una función que reciba undiccionario con las notas de los alumnos en curso en un examen\n",
            "y devuelva una serie con las notas de los alumnos aprobados ordenadas de mayor a menor.\n",
            "angel       10.0\n",
            "arturo       8.5\n",
            "armando      6.0\n",
            "santiago     5.0\n",
            "dtype: float64\n"
          ],
          "name": "stdout"
        }
      ]
    }
  ]
}