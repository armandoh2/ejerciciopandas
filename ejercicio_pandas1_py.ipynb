{
  "nbformat": 4,
  "nbformat_minor": 0,
  "metadata": {
    "colab": {
      "name": "ejercicio pandas1.py",
      "provenance": [],
      "authorship_tag": "ABX9TyPeyshJritE2CBba29eugHK",
      "include_colab_link": true
    },
    "kernelspec": {
      "name": "python3",
      "display_name": "Python 3"
    },
    "language_info": {
      "name": "python"
    }
  },
  "cells": [
    {
      "cell_type": "markdown",
      "metadata": {
        "id": "view-in-github",
        "colab_type": "text"
      },
      "source": [
        "<a href=\"https://colab.research.google.com/github/armandoh2/ejerciciopandas/blob/main/ejercicio_pandas1_py.ipynb\" target=\"_parent\"><img src=\"https://colab.research.google.com/assets/colab-badge.svg\" alt=\"Open In Colab\"/></a>"
      ]
    },
    {
      "cell_type": "code",
      "metadata": {
        "colab": {
          "base_uri": "https://localhost:8080/"
        },
        "id": "Jvia_BITs67E",
        "outputId": "f93492a1-71b3-4ace-e197-a1cd0f9452cd"
      },
      "source": [
        "import pandas as pd\n",
        "\n",
        "print(\"EJERCICIO 1 programa que pregunta al usuario por las ventas de un rango de años y\") \n",
        "print(\"muestra por pantalla una serie con los datos de las ventas indexada por los años, antes y después\")\n",
        "print(\"de aplicarles un descuento del 10%\")\n",
        "\n",
        "\n",
        "inicio = int(input(' año inicial: '))\n",
        "fin = int(input('año final: '))\n",
        "ventas = {}\n",
        "for i in range(inicio, fin+1):\n",
        "    ventas[i] = float(input('ventas del año ' + str(i) +': '))\n",
        "ventas = pd.Series(ventas)\n",
        "print('Ventas\\n', ventas)\n",
        "print('Ventas con descuento\\n', ventas*0.9)\n",
        "\n",
        "\n"
      ],
      "execution_count": 16,
      "outputs": [
        {
          "output_type": "stream",
          "text": [
            "EJERCICIO 1 programa que pregunta al usuario por las ventas de un rango de años y\n",
            "muestra por pantalla una serie con los datos de las ventas indexada por los años, antes y después\n",
            "de aplicarles un descuento del 10%\n",
            " año inicial: 2019\n",
            "año final: 2020\n",
            "ventas del año 2019: 30000\n",
            "ventas del año 2020: 40000\n",
            "Ventas\n",
            " 2019    30000.0\n",
            "2020    40000.0\n",
            "dtype: float64\n",
            "Ventas con descuento\n",
            " 2019    27000.0\n",
            "2020    36000.0\n",
            "dtype: float64\n"
          ],
          "name": "stdout"
        }
      ]
    }
  ]
}