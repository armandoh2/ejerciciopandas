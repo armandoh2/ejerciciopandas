{
  "nbformat": 4,
  "nbformat_minor": 0,
  "metadata": {
    "colab": {
      "name": "ejercicio pandas 5.py",
      "provenance": [],
      "authorship_tag": "ABX9TyMSBaw7U0cSUm12mAxj9wOL",
      "include_colab_link": true
    },
    "kernelspec": {
      "name": "python3",
      "display_name": "Python 3"
    },
    "language_info": {
      "name": "python"
    }
  },
  "cells": [
    {
      "cell_type": "markdown",
      "metadata": {
        "id": "view-in-github",
        "colab_type": "text"
      },
      "source": [
        "<a href=\"https://colab.research.google.com/github/armandoh2/ejerciciopandas/blob/main/ejercicio_pandas_5_py.ipynb\" target=\"_parent\"><img src=\"https://colab.research.google.com/assets/colab-badge.svg\" alt=\"Open In Colab\"/></a>"
      ]
    },
    {
      "cell_type": "code",
      "metadata": {
        "colab": {
          "base_uri": "https://localhost:8080/"
        },
        "id": "hZTJwFbJvmjb",
        "outputId": "efe81205-9594-47e8-ae86-b179be0a6acd"
      },
      "source": [
        "import pandas as pd\n",
        "print(\"EJERCICIO 5\")\n",
        "print(\"\")\n",
        "print(\"Escribir una función que reciba un DataFrame con el formato del ejercicio anterior, una lista de meses,\")\n",
        "print(\"y devuelva el balance (ventas -gastos) total en los meses indicados.\")\n",
        "\n",
        "print(\"Tomando en cuenta los siguientes datos, septiembre Ganancias: $30,500 - Gastos: $22,000, octubre: Ganancias $35,600 - Gastos $23,400, \")\n",
        "print(\"noviembre: Ganancias $28,300 - $18,100, diciembre: Ganancias $33,900 - $20,700\")\n",
        "datos = {'Mes':['septiembre', 'octubre', 'noviembre', 'diciembre'], 'Ventas':[30500, 35600, 28300, 33900], 'Gastos':[22000, 23400, 18100, 20700]}\n",
        "\n",
        "contabilidad = pd.DataFrame(datos)\n",
        "\n",
        "def balance(contabilidad, meses):\n",
        "    contabilidad['Balance'] = contabilidad.Ventas - contabilidad.Gastos\n",
        "    return contabilidad[contabilidad.Mes.isin(meses)].Balance.sum()\n",
        "\n",
        "print(balance(contabilidad, ['septiembre','noviembre']))\n",
        "\n",
        "\n"
      ],
      "execution_count": 6,
      "outputs": [
        {
          "output_type": "stream",
          "text": [
            "EJERCICIO 5\n",
            "\n",
            "Escribir una función que reciba un DataFrame con el formato del ejercicio anterior, una lista de meses,\n",
            "y devuelva el balance (ventas -gastos) total en los meses indicados.\n",
            "Tomando en cuenta los siguientes datos, septiembre Ganancias: $30,500 - Gastos: $22,000, octubre: Ganancias $35,600 - Gastos $23,400, \n",
            "noviembre: Ganancias $28,300 - $18,100, diciembre: Ganancias $33,900 - $20,700\n",
            "18700\n"
          ],
          "name": "stdout"
        }
      ]
    }
  ]
}