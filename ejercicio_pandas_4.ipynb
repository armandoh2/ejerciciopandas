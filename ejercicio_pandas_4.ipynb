{
  "nbformat": 4,
  "nbformat_minor": 0,
  "metadata": {
    "colab": {
      "name": "ejercicio pandas 4",
      "provenance": [],
      "authorship_tag": "ABX9TyNB3uuogu6UM1WSXKPhvCi6",
      "include_colab_link": true
    },
    "kernelspec": {
      "name": "python3",
      "display_name": "Python 3"
    },
    "language_info": {
      "name": "python"
    }
  },
  "cells": [
    {
      "cell_type": "markdown",
      "metadata": {
        "id": "view-in-github",
        "colab_type": "text"
      },
      "source": [
        "<a href=\"https://colab.research.google.com/github/armandoh2/ejerciciopandas/blob/main/ejercicio_pandas_4.ipynb\" target=\"_parent\"><img src=\"https://colab.research.google.com/assets/colab-badge.svg\" alt=\"Open In Colab\"/></a>"
      ]
    },
    {
      "cell_type": "code",
      "metadata": {
        "colab": {
          "base_uri": "https://localhost:8080/"
        },
        "id": "Y5PCFGkVtnTY",
        "outputId": "b9b4d9df-7a5f-4a0e-df47-97b638912ca2"
      },
      "source": [
        "import pandas as pd\n",
        "\n",
        "print(\"EJERCICIO 4\")\n",
        "print(\"Escribir programa que genere y muestre por pantalla un DataFrame con los datos de la tabla asignada\")\n",
        "print(\"\")\n",
        "\n",
        "datos = {'Mes':['septiembre', 'octubre', 'noviembre', 'diciembre'], 'Ventas':[80500, 90000, 98000, 100000], 'Gastos':[30000, 29400, 13100, 40700]}\n",
        "contabilidad = pd.DataFrame(datos)\n",
        "print(contabilidad)\n",
        "\n",
        "print(\"\")\n"
      ],
      "execution_count": 2,
      "outputs": [
        {
          "output_type": "stream",
          "text": [
            "EJERCICIO 4\n",
            "Escribir programa que genere y muestre por pantalla un DataFrame con los datos de la tabla asignada\n",
            "\n",
            "          Mes  Ventas  Gastos\n",
            "0  septiembre   80500   30000\n",
            "1     octubre   90000   29400\n",
            "2   noviembre   98000   13100\n",
            "3   diciembre  100000   40700\n",
            "\n"
          ],
          "name": "stdout"
        }
      ]
    }
  ]
}